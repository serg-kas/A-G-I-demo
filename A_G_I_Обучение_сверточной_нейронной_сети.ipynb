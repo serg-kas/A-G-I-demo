{
  "nbformat": 4,
  "nbformat_minor": 0,
  "metadata": {
    "colab": {
      "name": "A-G-I. Обучение сверточной нейронной сети",
      "provenance": [],
      "collapsed_sections": [],
      "machine_shape": "hm",
      "include_colab_link": true
    },
    "kernelspec": {
      "name": "python3",
      "display_name": "Python 3"
    },
    "gpuClass": "standard"
  },
  "cells": [
    {
      "cell_type": "markdown",
      "metadata": {
        "id": "view-in-github",
        "colab_type": "text"
      },
      "source": [
        "<a href=\"https://colab.research.google.com/github/serg-kas/A-G-I-demo/blob/master/A_G_I_%D0%9E%D0%B1%D1%83%D1%87%D0%B5%D0%BD%D0%B8%D0%B5_%D1%81%D0%B2%D0%B5%D1%80%D1%82%D0%BE%D1%87%D0%BD%D0%BE%D0%B9_%D0%BD%D0%B5%D0%B9%D1%80%D0%BE%D0%BD%D0%BD%D0%BE%D0%B9_%D1%81%D0%B5%D1%82%D0%B8.ipynb\" target=\"_parent\"><img src=\"https://colab.research.google.com/assets/colab-badge.svg\" alt=\"Open In Colab\"/></a>"
      ]
    },
    {
      "cell_type": "markdown",
      "metadata": {
        "id": "8-F71M7l0j9Y"
      },
      "source": [
        "# Analog Gauge Inspection\n",
        "\n",
        "**Создание и обучение модели.**\n"
      ]
    },
    {
      "cell_type": "code",
      "source": [
        "!git clone https://github.com/serg-kas/A-G-I-demo"
      ],
      "metadata": {
        "colab": {
          "base_uri": "https://localhost:8080/"
        },
        "id": "z8zjVFLCGJ8n",
        "outputId": "330d15e8-e426-4317-fdf5-91541eed3288"
      },
      "execution_count": 1,
      "outputs": [
        {
          "output_type": "stream",
          "name": "stdout",
          "text": [
            "Cloning into 'A-G-I-demo'...\n",
            "remote: Enumerating objects: 54, done.\u001b[K\n",
            "remote: Counting objects: 100% (54/54), done.\u001b[K\n",
            "remote: Compressing objects: 100% (39/39), done.\u001b[K\n",
            "remote: Total 54 (delta 24), reused 40 (delta 14), pack-reused 0\u001b[K\n",
            "Unpacking objects: 100% (54/54), done.\n"
          ]
        }
      ]
    },
    {
      "cell_type": "code",
      "metadata": {
        "id": "psPMK8Iyr3Bf"
      },
      "source": [
        "#Импорт библиотек\n",
        "\n",
        "# Датасет\n",
        "from tensorflow.keras.datasets import mnist \n",
        "\n",
        "# Слои\n",
        "from tensorflow.keras.models import Sequential\n",
        "from tensorflow.keras.layers import Dense, Conv2D, MaxPooling2D, Flatten, Dropout, BatchNormalization\n",
        "from tensorflow.keras.optimizers import Adam, Adadelta # оптимизаторы\n",
        "from tensorflow.keras import utils                     # отсюда to_categoricall\n",
        "from keras.models import load_model, save_model\n",
        "\n",
        "# Работа с изображениями\n",
        "from PIL import Image\n",
        "%matplotlib inline\n",
        "\n",
        "\n",
        "#Базовые библиотеки\n",
        "import numpy as np\n",
        "import matplotlib.pyplot as plt\n",
        "import random\n",
        "\n"
      ],
      "execution_count": null,
      "outputs": []
    },
    {
      "cell_type": "code",
      "metadata": {
        "id": "ydtWVqq2iMQQ",
        "colab": {
          "base_uri": "https://localhost:8080/"
        },
        "outputId": "916ed47a-018f-4087-b631-dad160635983"
      },
      "source": [
        "from google.colab import drive\n",
        "drive.mount('/content/drive')\n",
        "\n",
        "# Путь к папке с данным\n",
        "PATH = '/content/drive/MyDrive/my_data/TMK/'\n",
        "\n",
        "!ls {PATH}"
      ],
      "execution_count": null,
      "outputs": [
        {
          "output_type": "stream",
          "name": "stdout",
          "text": [
            "Mounted at /content/drive\n",
            "model-CNN.h5\n"
          ]
        }
      ]
    },
    {
      "cell_type": "code",
      "metadata": {
        "id": "sJWyVwKFociA",
        "colab": {
          "base_uri": "https://localhost:8080/",
          "height": 229
        },
        "outputId": "8bc3ed82-2c25-46d9-e6ee-daed886aa1ac"
      },
      "source": [
        "# Загружаем MINST\n",
        "(x_train, y_train), (x_test, y_test) = mnist.load_data()\n",
        "\n",
        "#Смотрим форму данных\n",
        "print(x_train.shape)\n",
        "print(y_train.shape)\n",
        "\n",
        "#Выводим на экран пример картинок\n",
        "fig, axs = plt.subplots(1, 10, figsize=(25,3)) #будет 10 графиков по числу классов от 0 до 9\n",
        "\n",
        "for i in range(10):\n",
        "  label_indexes = np.where(y_train == i)[0]\n",
        "  #print(np.where(y_train == i))\n",
        "  #print(label_indexes)\n",
        "  index = random.choice(label_indexes) #случайный индекс из списка\n",
        "  #print(index)\n",
        "  img = x_train[index] #изображение по индексу\n",
        "  axs[i].imshow(Image.fromarray(img), cmap='gray') \n",
        "\n",
        "plt.show()\n"
      ],
      "execution_count": null,
      "outputs": [
        {
          "output_type": "stream",
          "name": "stdout",
          "text": [
            "Downloading data from https://storage.googleapis.com/tensorflow/tf-keras-datasets/mnist.npz\n",
            "11493376/11490434 [==============================] - 0s 0us/step\n",
            "11501568/11490434 [==============================] - 0s 0us/step\n",
            "(60000, 28, 28)\n",
            "(60000,)\n"
          ]
        },
        {
          "output_type": "display_data",
          "data": {
            "image/png": "[encoded data removed]",
            "text/plain": [
              "<Figure size 1800x216 with 10 Axes>"
            ]
          },
          "metadata": {
            "needs_background": "light"
          }
        }
      ]
    },
    {
      "cell_type": "code",
      "metadata": {
        "id": "pkwLnerToh4w",
        "colab": {
          "base_uri": "https://localhost:8080/"
        },
        "outputId": "187d9cc6-9a64-4823-e0d1-38fc0d40bdf5"
      },
      "source": [
        "# Подготовим данные\n",
        "\n",
        "y_train = utils.to_categorical(y_train, 10)  # в формат one_hot_encoding на 10 категорий\n",
        "y_test = utils.to_categorical(y_test, 10)    # в формат one_hot_encoding на 10 категорий\n",
        "\n",
        "#print(x_train.shape[0])\n",
        "x_train = x_train.reshape(x_train.shape[0], 28, 28, 1)  #добавляем размерность 1\n",
        "#print(x_test.shape[0])\n",
        "x_test = x_test.reshape(x_test.shape[0], 28, 28, 1)     #добавляем размерность 1\n",
        "\n",
        "# Проверим форматы подготовленных выборок\n",
        "print(x_train.shape)\n",
        "print(y_train.shape)\n",
        "print(x_test.shape)\n",
        "print(y_test.shape)"
      ],
      "execution_count": null,
      "outputs": [
        {
          "output_type": "stream",
          "name": "stdout",
          "text": [
            "(60000, 28, 28, 1)\n",
            "(60000, 10)\n",
            "(10000, 28, 28, 1)\n",
            "(10000, 10)\n"
          ]
        }
      ]
    },
    {
      "cell_type": "code",
      "metadata": {
        "id": "csHtPHnLvqMW",
        "colab": {
          "base_uri": "https://localhost:8080/"
        },
        "outputId": "60c11fe3-9652-44c3-e3a0-6e585835dd01"
      },
      "source": [
        "#Создаем сверточную сеть\n",
        "\n",
        "model = Sequential()\n",
        "\n",
        "#слой пакетной нормализации - входной\n",
        "model.add(BatchNormalization(input_shape=(28,28,1)))\n",
        "\n",
        "#первый сверточный слой\n",
        "model.add(Conv2D(32, (3, 3), padding='same', activation='relu'))\n",
        "#второй сверточный слой - идентичен первому сверточному слою\n",
        "model.add(Conv2D(32, (3, 3), padding='same', activation='relu'))\n",
        "\n",
        "#слой подвыборки\n",
        "model.add(MaxPooling2D(pool_size=(2, 2)))\n",
        "#слой Dropout\n",
        "model.add(Dropout(0.25))\n",
        "\n",
        "#разворачиваем в вектор для перехода к полносвязным слоям \n",
        "model.add(Flatten())\n",
        "\n",
        "#первый полносвязный слой\n",
        "model.add(Dense(256, activation='relu'))\n",
        "#слой Dropout\n",
        "model.add(Dropout(0.25))\n",
        "\n",
        "#второй - выходной полносвязный слой\n",
        "model.add(Dense(10, activation='softmax'))\n",
        "\n",
        "\n",
        "# Компилируем сеть\n",
        "model.compile(loss='categorical_crossentropy', optimizer='adam', metrics=['accuracy'])\n",
        "\n",
        "# Напечатаем архтектуру\n",
        "model.summary()"
      ],
      "execution_count": null,
      "outputs": [
        {
          "output_type": "stream",
          "name": "stdout",
          "text": [
            "Model: \"sequential\"\n",
            "_________________________________________________________________\n",
            " Layer (type)                Output Shape              Param #   \n",
            "=================================================================\n",
            " batch_normalization (BatchN  (None, 28, 28, 1)        4         \n",
            " ormalization)                                                   \n",
            "                                                                 \n",
            " conv2d (Conv2D)             (None, 28, 28, 32)        320       \n",
            "                                                                 \n",
            " conv2d_1 (Conv2D)           (None, 28, 28, 32)        9248      \n",
            "                                                                 \n",
            " max_pooling2d (MaxPooling2D  (None, 14, 14, 32)       0         \n",
            " )                                                               \n",
            "                                                                 \n",
            " dropout (Dropout)           (None, 14, 14, 32)        0         \n",
            "                                                                 \n",
            " flatten (Flatten)           (None, 6272)              0         \n",
            "                                                                 \n",
            " dense (Dense)               (None, 256)               1605888   \n",
            "                                                                 \n",
            " dropout_1 (Dropout)         (None, 256)               0         \n",
            "                                                                 \n",
            " dense_1 (Dense)             (None, 10)                2570      \n",
            "                                                                 \n",
            "=================================================================\n",
            "Total params: 1,618,030\n",
            "Trainable params: 1,618,028\n",
            "Non-trainable params: 2\n",
            "_________________________________________________________________\n"
          ]
        }
      ]
    },
    {
      "cell_type": "code",
      "metadata": {
        "id": "i_n4jXsEyvav",
        "colab": {
          "base_uri": "https://localhost:8080/",
          "height": 800
        },
        "outputId": "2a2ef556-2625-4ff6-e494-f1ba1c464787"
      },
      "source": [
        "#Обучаем сеть на подготовленных данных датасета\n",
        "\n",
        "b_s =128\n",
        "\n",
        "history = model.fit(x_train, y_train, batch_size=b_s, epochs=15,\n",
        "                    validation_data=(x_test, y_test), verbose=1)\n",
        "\n",
        "\n",
        "#и нарисуем график точности обучения\n",
        "plt.plot(history.history['accuracy'], label='Доля верных ответов на обучающем наборе')\n",
        "plt.plot(history.history['val_accuracy'], label='Доля верных ответов на проверочном наборе')\n",
        "plt.xlabel('Эпоха обучения')\n",
        "plt.xlabel('Доля верных ответов')\n",
        "plt.legend()\n",
        "plt.show()\n",
        "\n",
        "\n"
      ],
      "execution_count": null,
      "outputs": [
        {
          "output_type": "stream",
          "name": "stdout",
          "text": [
            "Epoch 1/15\n",
            "469/469 [==============================] - 12s 7ms/step - loss: 0.1712 - accuracy: 0.9470 - val_loss: 0.0453 - val_accuracy: 0.9858\n",
            "Epoch 2/15\n",
            "469/469 [==============================] - 3s 6ms/step - loss: 0.0540 - accuracy: 0.9833 - val_loss: 0.0330 - val_accuracy: 0.9894\n",
            "Epoch 3/15\n",
            "469/469 [==============================] - 3s 6ms/step - loss: 0.0386 - accuracy: 0.9880 - val_loss: 0.0323 - val_accuracy: 0.9893\n",
            "Epoch 4/15\n",
            "469/469 [==============================] - 3s 6ms/step - loss: 0.0275 - accuracy: 0.9909 - val_loss: 0.0286 - val_accuracy: 0.9909\n",
            "Epoch 5/15\n",
            "469/469 [==============================] - 3s 6ms/step - loss: 0.0239 - accuracy: 0.9922 - val_loss: 0.0278 - val_accuracy: 0.9904\n",
            "Epoch 6/15\n",
            "469/469 [==============================] - 3s 6ms/step - loss: 0.0200 - accuracy: 0.9934 - val_loss: 0.0284 - val_accuracy: 0.9919\n",
            "Epoch 7/15\n",
            "469/469 [==============================] - 3s 6ms/step - loss: 0.0165 - accuracy: 0.9946 - val_loss: 0.0292 - val_accuracy: 0.9910\n",
            "Epoch 8/15\n",
            "469/469 [==============================] - 3s 6ms/step - loss: 0.0135 - accuracy: 0.9952 - val_loss: 0.0317 - val_accuracy: 0.9907\n",
            "Epoch 9/15\n",
            "469/469 [==============================] - 3s 6ms/step - loss: 0.0140 - accuracy: 0.9952 - val_loss: 0.0361 - val_accuracy: 0.9899\n",
            "Epoch 10/15\n",
            "469/469 [==============================] - 3s 6ms/step - loss: 0.0123 - accuracy: 0.9956 - val_loss: 0.0378 - val_accuracy: 0.9906\n",
            "Epoch 11/15\n",
            "469/469 [==============================] - 3s 6ms/step - loss: 0.0115 - accuracy: 0.9960 - val_loss: 0.0315 - val_accuracy: 0.9915\n",
            "Epoch 12/15\n",
            "469/469 [==============================] - 3s 6ms/step - loss: 0.0103 - accuracy: 0.9964 - val_loss: 0.0312 - val_accuracy: 0.9912\n",
            "Epoch 13/15\n",
            "469/469 [==============================] - 3s 6ms/step - loss: 0.0091 - accuracy: 0.9969 - val_loss: 0.0285 - val_accuracy: 0.9924\n",
            "Epoch 14/15\n",
            "469/469 [==============================] - 3s 6ms/step - loss: 0.0085 - accuracy: 0.9973 - val_loss: 0.0293 - val_accuracy: 0.9925\n",
            "Epoch 15/15\n",
            "469/469 [==============================] - 3s 6ms/step - loss: 0.0085 - accuracy: 0.9972 - val_loss: 0.0349 - val_accuracy: 0.9910\n"
          ]
        },
        {
          "output_type": "display_data",
          "data": {
            "image/png": "[encoded data removed]",
            "text/plain": [
              "<Figure size 432x288 with 1 Axes>"
            ]
          },
          "metadata": {
            "needs_background": "light"
          }
        }
      ]
    },
    {
      "cell_type": "code",
      "metadata": {
        "id": "xgi6gVCU5rAh",
        "colab": {
          "base_uri": "https://localhost:8080/"
        },
        "outputId": "ebce6e44-489f-4e7d-dff0-46c5406e9c5b"
      },
      "source": [
        "#Проверим распознавание на произвольном примере из тестовой выборки\n",
        "n = 1111\n",
        "\n",
        "prediction = model.predict(x_test)\n",
        "\n",
        "#напечатаем результаты\n",
        "print('Выход сети', prediction[n])\n",
        "print('Распознанная цифра', np.argmax(prediction[n]))\n",
        "print('Верный ответ', np.argmax(y_test[n]))\n"
      ],
      "execution_count": null,
      "outputs": [
        {
          "output_type": "stream",
          "name": "stdout",
          "text": [
            "Выход сети [9.5650137e-17 1.2195295e-10 1.1531532e-13 4.7626926e-15 9.9999917e-01\n",
            " 2.8641072e-15 6.2313927e-16 4.0000203e-09 4.0042547e-10 8.7866323e-07]\n",
            "Распознанная цифра 4\n",
            "Верный ответ 4\n"
          ]
        }
      ]
    },
    {
      "cell_type": "markdown",
      "metadata": {
        "id": "3Ti0vl_g-6RP"
      },
      "source": [
        "**Сохраним модель для дальнейшего использования**"
      ]
    },
    {
      "cell_type": "code",
      "source": [
        "# Сохраняем модель\n",
        "model.save(PATH + 'model-CNN.h5')\n",
        "# model = load_model(PATH + 'model-CNN.h5')\n",
        "\n",
        "!ls {PATH}\n"
      ],
      "metadata": {
        "colab": {
          "base_uri": "https://localhost:8080/"
        },
        "id": "tFJPhLp_OphV",
        "outputId": "6f3a36b8-d5f9-4c38-db8f-02822802e9d7"
      },
      "execution_count": null,
      "outputs": [
        {
          "output_type": "stream",
          "name": "stdout",
          "text": [
            "model-CNN.h5\n"
          ]
        }
      ]
    }
  ]
}